{
 "cells": [
  {
   "cell_type": "markdown",
   "id": "a069fffe-1538-465f-ae77-c648af2766a5",
   "metadata": {},
   "source": [
    "Each proposal should include the following sections:\n",
    "\n",
    "- Title\n",
    "- Introduction:\n",
    "    - Provide some relevant background information on the topic so that someone unfamiliar with it will be prepared to understand the rest of your proposal\n",
    "    - Clearly state the question you will try to answer with your project\n",
    "    - Identify and describe the dataset that will be used to answer the question\n",
    "- Preliminary exploratory data analysis:\n",
    "    - Demonstrate that the dataset can be read from the web into R \n",
    "    - Clean and wrangle your data into a tidy format\n",
    "    - Using only training data, summarize the data in at least one table (this is exploratory data analysis). An example of a useful table could be one that reports the number of observations in each class, the means of the predictor variables you plan to use in your analysis and how many rows have missing data. \n",
    "    - Using only training data, visualize the data with at least one plot relevant to the analysis you plan to do (this is exploratory data analysis). An example of a useful visualization could be one that compares the distributions of each of the predictor variables you plan to use in your analysis.\n",
    "- Methods:\n",
    "    - Explain how you will conduct either your data analysis and which variables/columns you will use. Note - you do not need to use all variables/columns that exist in the raw data set. In fact, that's often not a good idea. For each variable think: is this a useful variable for prediction?\n",
    "    - Describe at least one way that you will visualize the results\n",
    "- Expected outcomes and significance:\n",
    "    - What do you expect to find?\n",
    "    - What impact could such findings have?\n",
    "    - What future questions could this lead to?"
   ]
  },
  {
   "cell_type": "markdown",
   "id": "93525b05-31a2-4c00-995f-2229d12c7993",
   "metadata": {},
   "source": [
    "# Influence of Predictive Indicators of Diabetes\n",
    "\n",
    "Diabetes is among the most prevalent chronic diseases in the United States, impacting millions of Americans each year and exerting a significant financial burden on the economy. It is a serious chronic disease in which individuals lose the ability to effectively regulate levels of glucose in the blood, and can lead to reduced quality of life and life expectancy.\n",
    "\n",
    "Complications like heart disease, vision loss, lower-limb amputation, and kidney disease are associated with chronically high levels of sugar remaining in the bloodstream for those with diabetes. While there is no cure for diabetes, strategies like losing weight, eating healthily, being active, and receiving medical treatments can mitigate the harms of this disease in many patients. Early diagnosis can lead to lifestyle changes and more effective treatment, making predictive models for diabetes risk important tools for public and public health officials.\n",
    "\n",
    "### We intend to conduct an investigation into factors that influence diabetes in different age groups, as well as to predict whether a person is prone to diabetes (and which type) or not.\n",
    "\n",
    "The Behavioral Risk Factor Surveillance System (BRFSS) is a health-related telephone survey that is collected annually by the CDC. Each year, the survey collects responses from over 400,000 Americans on health-related risk behaviors, chronic health conditions, and the use of preventative services.This dataset contains responses from 441,455 individuals and has 330 features. These features are either questions directly asked of participants, or calculated variables based on individual participant responses."
   ]
  },
  {
   "cell_type": "code",
   "execution_count": null,
   "id": "10de678f-bd29-4dcf-a54b-9442b3c0f629",
   "metadata": {},
   "outputs": [],
   "source": []
  }
 ],
 "metadata": {
  "kernelspec": {
   "display_name": "R",
   "language": "R",
   "name": "ir"
  },
  "language_info": {
   "codemirror_mode": "r",
   "file_extension": ".r",
   "mimetype": "text/x-r-source",
   "name": "R",
   "pygments_lexer": "r",
   "version": "4.2.2"
  }
 },
 "nbformat": 4,
 "nbformat_minor": 5
}

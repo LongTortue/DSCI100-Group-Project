{
 "cells": [
  {
   "cell_type": "markdown",
   "id": "93525b05-31a2-4c00-995f-2229d12c7993",
   "metadata": {
    "tags": []
   },
   "source": [
    "# Classification of Hazardous/Nonhazardous Nearest Earth Objects"
   ]
  },
  {
   "cell_type": "markdown",
   "id": "9faaca04-9d04-46a2-85a3-87b46bd564d0",
   "metadata": {},
   "source": [
    "### Introduction\n",
    "A near-earth object (NEO) is described as an asteroid or comet on a path that approaches within 1.3 astronomical units of the sun (approximately 150 million kilometres), thereby heading towards Earth in the process.<sup>[1](#1)</sup> One motive for studying NEOs is to prevent collisions with Earth, as they can disrupt natural processes on Earth.<sup>[2](#1)</sup> The JPL Center for NEO Studies conducts research on these objects by computing orbits and assessing the impact risk of individual NEOs over time.<sup>[3](#1)</sup>\n",
    "\n",
    "In this project, we want to expand on the research done by the JPL. Before assessing the potential threat of a NEO, we must predict its trajectory by studying attributes such as their size, mass, composition and speed.<sup>[2](#1)</sup> However, the data collected is imperfect because calculations are difficult with irregular objects, and the measurements are taken at various times, distances and phase angles.<sup>[3](#1)</sup> Considering this, we want to create a binary classifier that uses the K-nearest neighbours algorithm to predict whether a given NEO is harmful or not based on various quantitative measurements. As NEOs constantly monitored and their threat status changes based on updated trajectory predictions, it is more important that our classifier correctly identify a harmful NEO as harmful (i.e., high recall) rather than prevent false positives (i.e., high precision)<sup>[3](#1)</sup>. Our question is, what predictors and K value will produce a classifier that predicts the hazardous designation of a NEO with the highest accuracy and recall?\n",
    "\n",
    "### NEO Dataset\n",
    "The dataset we selected compiles the list of NASA certified asteroids that are classified as NEOs (i.e., Near-Earth Asteroids or NEAs).<sup>[4](#1)</sup>\n",
    "\n",
    "1. id (unique identifier for each asteroid)\n",
    "2. name (name of asteroid given by NASA)\n",
    "3. est_diameter_min (minimum estimated diameter in kilometres)\n",
    "4. est_diameter_max (maximum estimate diameter in kilometres)\n",
    "5. relative_velocity (velocity relative to earth)\n",
    "6. miss_distance (distance in kilometres missed)\n",
    "7. orbiting_body (planet that the asteroid orbits)\n",
    "8. sentry_obect (included in JPL Sentry System - an automated collision monitory system)\n",
    "9. absolute_magnitude (describes intrinsic luminosity)\n",
    "10. hazardous (boolean factor that indicates whether asteroid is harmful or not)\n",
    "\n",
    "Notes:\n",
    "- Absolute magnitude (H) is a measure of the asteroid's intrinsic mean brightness, i.e., the amount of light emitted. This value is uncertain, because it depends on the albedo (a) of the asteroid, i.e., average reflectivity of light. In this dataset, the researchers used an arbitrary albedo value such that 1 km of aspherical NEA corresponds to an H = 17.75. The diameter of an asteroid can be estimated from its H and geometric albedo value.<sup>[5](#1)</sup>\n",
    "- Could not find the meaning of \"miss_distance\" on JPL database. We're going to assume that the person who made the dataset mutated the distance columns (how close the asteroid will get to Earth).<sup>[6](#1)</sup>"
   ]
  },
  {
   "cell_type": "code",
   "execution_count": 3,
   "id": "10de678f-bd29-4dcf-a54b-9442b3c0f629",
   "metadata": {
    "tags": []
   },
   "outputs": [
    {
     "ename": "ERROR",
     "evalue": "Error in library(cowplot): there is no package called ‘cowplot’\n",
     "output_type": "error",
     "traceback": [
      "Error in library(cowplot): there is no package called ‘cowplot’\nTraceback:\n",
      "1. library(cowplot)"
     ]
    }
   ],
   "source": [
    "# Run this cell before continuing\n",
    "library(tidyverse)\n",
    "library(repr)\n",
    "library(tidymodels)\n",
    "library(cowplot)"
   ]
  },
  {
   "cell_type": "code",
   "execution_count": 4,
   "id": "2b129951-7d2e-4036-aa3b-018971c4e06d",
   "metadata": {
    "tags": []
   },
   "outputs": [
    {
     "name": "stderr",
     "output_type": "stream",
     "text": [
      "\u001b[1mRows: \u001b[22m\u001b[34m90836\u001b[39m \u001b[1mColumns: \u001b[22m\u001b[34m10\u001b[39m\n",
      "\u001b[36m──\u001b[39m \u001b[1mColumn specification\u001b[22m \u001b[36m────────────────────────────────────────────────────────\u001b[39m\n",
      "\u001b[1mDelimiter:\u001b[22m \",\"\n",
      "\u001b[31mchr\u001b[39m (2): name, orbiting_body\n",
      "\u001b[32mdbl\u001b[39m (6): id, est_diameter_min, est_diameter_max, relative_velocity, miss_dis...\n",
      "\u001b[33mlgl\u001b[39m (2): sentry_object, hazardous\n",
      "\n",
      "\u001b[36mℹ\u001b[39m Use `spec()` to retrieve the full column specification for this data.\n",
      "\u001b[36mℹ\u001b[39m Specify the column types or set `show_col_types = FALSE` to quiet this message.\n"
     ]
    },
    {
     "data": {
      "text/html": [
       "<table class=\"dataframe\">\n",
       "<caption>A tibble: 6 × 10</caption>\n",
       "<thead>\n",
       "\t<tr><th scope=col>id</th><th scope=col>name</th><th scope=col>est_diameter_min</th><th scope=col>est_diameter_max</th><th scope=col>relative_velocity</th><th scope=col>miss_distance</th><th scope=col>orbiting_body</th><th scope=col>sentry_object</th><th scope=col>absolute_magnitude</th><th scope=col>hazardous</th></tr>\n",
       "\t<tr><th scope=col>&lt;dbl&gt;</th><th scope=col>&lt;chr&gt;</th><th scope=col>&lt;dbl&gt;</th><th scope=col>&lt;dbl&gt;</th><th scope=col>&lt;dbl&gt;</th><th scope=col>&lt;dbl&gt;</th><th scope=col>&lt;chr&gt;</th><th scope=col>&lt;fct&gt;</th><th scope=col>&lt;dbl&gt;</th><th scope=col>&lt;fct&gt;</th></tr>\n",
       "</thead>\n",
       "<tbody>\n",
       "\t<tr><td> 2162635</td><td>162635 (2000 SS164)</td><td>1.19827080</td><td>2.67941497</td><td> 13569.25</td><td>54839744</td><td>Earth</td><td>FALSE</td><td>16.73</td><td>FALSE</td></tr>\n",
       "\t<tr><td> 2277475</td><td>277475 (2005 WK4)  </td><td>0.26580000</td><td>0.59434687</td><td> 73588.73</td><td>61438127</td><td>Earth</td><td>FALSE</td><td>20.00</td><td>TRUE </td></tr>\n",
       "\t<tr><td> 2512244</td><td>512244 (2015 YE18) </td><td>0.72202956</td><td>1.61450717</td><td>114258.69</td><td>49798725</td><td>Earth</td><td>FALSE</td><td>17.83</td><td>FALSE</td></tr>\n",
       "\t<tr><td> 3596030</td><td>(2012 BV13)        </td><td>0.09650615</td><td>0.21579430</td><td> 24764.30</td><td>25434973</td><td>Earth</td><td>FALSE</td><td>22.20</td><td>FALSE</td></tr>\n",
       "\t<tr><td> 3667127</td><td>(2014 GE35)        </td><td>0.25500869</td><td>0.57021676</td><td> 42737.73</td><td>46275567</td><td>Earth</td><td>FALSE</td><td>20.09</td><td>TRUE </td></tr>\n",
       "\t<tr><td>54138696</td><td>(2021 GY23)        </td><td>0.03635423</td><td>0.08129053</td><td> 34297.59</td><td>40585691</td><td>Earth</td><td>FALSE</td><td>24.32</td><td>FALSE</td></tr>\n",
       "</tbody>\n",
       "</table>\n"
      ],
      "text/latex": [
       "A tibble: 6 × 10\n",
       "\\begin{tabular}{llllllllll}\n",
       " id & name & est\\_diameter\\_min & est\\_diameter\\_max & relative\\_velocity & miss\\_distance & orbiting\\_body & sentry\\_object & absolute\\_magnitude & hazardous\\\\\n",
       " <dbl> & <chr> & <dbl> & <dbl> & <dbl> & <dbl> & <chr> & <fct> & <dbl> & <fct>\\\\\n",
       "\\hline\n",
       "\t  2162635 & 162635 (2000 SS164) & 1.19827080 & 2.67941497 &  13569.25 & 54839744 & Earth & FALSE & 16.73 & FALSE\\\\\n",
       "\t  2277475 & 277475 (2005 WK4)   & 0.26580000 & 0.59434687 &  73588.73 & 61438127 & Earth & FALSE & 20.00 & TRUE \\\\\n",
       "\t  2512244 & 512244 (2015 YE18)  & 0.72202956 & 1.61450717 & 114258.69 & 49798725 & Earth & FALSE & 17.83 & FALSE\\\\\n",
       "\t  3596030 & (2012 BV13)         & 0.09650615 & 0.21579430 &  24764.30 & 25434973 & Earth & FALSE & 22.20 & FALSE\\\\\n",
       "\t  3667127 & (2014 GE35)         & 0.25500869 & 0.57021676 &  42737.73 & 46275567 & Earth & FALSE & 20.09 & TRUE \\\\\n",
       "\t 54138696 & (2021 GY23)         & 0.03635423 & 0.08129053 &  34297.59 & 40585691 & Earth & FALSE & 24.32 & FALSE\\\\\n",
       "\\end{tabular}\n"
      ],
      "text/markdown": [
       "\n",
       "A tibble: 6 × 10\n",
       "\n",
       "| id &lt;dbl&gt; | name &lt;chr&gt; | est_diameter_min &lt;dbl&gt; | est_diameter_max &lt;dbl&gt; | relative_velocity &lt;dbl&gt; | miss_distance &lt;dbl&gt; | orbiting_body &lt;chr&gt; | sentry_object &lt;fct&gt; | absolute_magnitude &lt;dbl&gt; | hazardous &lt;fct&gt; |\n",
       "|---|---|---|---|---|---|---|---|---|---|\n",
       "|  2162635 | 162635 (2000 SS164) | 1.19827080 | 2.67941497 |  13569.25 | 54839744 | Earth | FALSE | 16.73 | FALSE |\n",
       "|  2277475 | 277475 (2005 WK4)   | 0.26580000 | 0.59434687 |  73588.73 | 61438127 | Earth | FALSE | 20.00 | TRUE  |\n",
       "|  2512244 | 512244 (2015 YE18)  | 0.72202956 | 1.61450717 | 114258.69 | 49798725 | Earth | FALSE | 17.83 | FALSE |\n",
       "|  3596030 | (2012 BV13)         | 0.09650615 | 0.21579430 |  24764.30 | 25434973 | Earth | FALSE | 22.20 | FALSE |\n",
       "|  3667127 | (2014 GE35)         | 0.25500869 | 0.57021676 |  42737.73 | 46275567 | Earth | FALSE | 20.09 | TRUE  |\n",
       "| 54138696 | (2021 GY23)         | 0.03635423 | 0.08129053 |  34297.59 | 40585691 | Earth | FALSE | 24.32 | FALSE |\n",
       "\n"
      ],
      "text/plain": [
       "  id       name                est_diameter_min est_diameter_max\n",
       "1  2162635 162635 (2000 SS164) 1.19827080       2.67941497      \n",
       "2  2277475 277475 (2005 WK4)   0.26580000       0.59434687      \n",
       "3  2512244 512244 (2015 YE18)  0.72202956       1.61450717      \n",
       "4  3596030 (2012 BV13)         0.09650615       0.21579430      \n",
       "5  3667127 (2014 GE35)         0.25500869       0.57021676      \n",
       "6 54138696 (2021 GY23)         0.03635423       0.08129053      \n",
       "  relative_velocity miss_distance orbiting_body sentry_object\n",
       "1  13569.25         54839744      Earth         FALSE        \n",
       "2  73588.73         61438127      Earth         FALSE        \n",
       "3 114258.69         49798725      Earth         FALSE        \n",
       "4  24764.30         25434973      Earth         FALSE        \n",
       "5  42737.73         46275567      Earth         FALSE        \n",
       "6  34297.59         40585691      Earth         FALSE        \n",
       "  absolute_magnitude hazardous\n",
       "1 16.73              FALSE    \n",
       "2 20.00              TRUE     \n",
       "3 17.83              FALSE    \n",
       "4 22.20              FALSE    \n",
       "5 20.09              TRUE     \n",
       "6 24.32              FALSE    "
      ]
     },
     "metadata": {},
     "output_type": "display_data"
    },
    {
     "data": {
      "text/html": [
       "<table class=\"dataframe\">\n",
       "<caption>A tibble: 2 × 2</caption>\n",
       "<thead>\n",
       "\t<tr><th scope=col>hazardous</th><th scope=col>count</th></tr>\n",
       "\t<tr><th scope=col>&lt;fct&gt;</th><th scope=col>&lt;int&gt;</th></tr>\n",
       "</thead>\n",
       "<tbody>\n",
       "\t<tr><td>FALSE</td><td>162</td></tr>\n",
       "\t<tr><td>TRUE </td><td>138</td></tr>\n",
       "</tbody>\n",
       "</table>\n"
      ],
      "text/latex": [
       "A tibble: 2 × 2\n",
       "\\begin{tabular}{ll}\n",
       " hazardous & count\\\\\n",
       " <fct> & <int>\\\\\n",
       "\\hline\n",
       "\t FALSE & 162\\\\\n",
       "\t TRUE  & 138\\\\\n",
       "\\end{tabular}\n"
      ],
      "text/markdown": [
       "\n",
       "A tibble: 2 × 2\n",
       "\n",
       "| hazardous &lt;fct&gt; | count &lt;int&gt; |\n",
       "|---|---|\n",
       "| FALSE | 162 |\n",
       "| TRUE  | 138 |\n",
       "\n"
      ],
      "text/plain": [
       "  hazardous count\n",
       "1 FALSE     162  \n",
       "2 TRUE      138  "
      ]
     },
     "metadata": {},
     "output_type": "display_data"
    },
    {
     "data": {
      "text/html": [
       "<table class=\"dataframe\">\n",
       "<caption>A tibble: 1 × 2</caption>\n",
       "<thead>\n",
       "\t<tr><th scope=col>orbiting_body</th><th scope=col>count</th></tr>\n",
       "\t<tr><th scope=col>&lt;chr&gt;</th><th scope=col>&lt;int&gt;</th></tr>\n",
       "</thead>\n",
       "<tbody>\n",
       "\t<tr><td>Earth</td><td>300</td></tr>\n",
       "</tbody>\n",
       "</table>\n"
      ],
      "text/latex": [
       "A tibble: 1 × 2\n",
       "\\begin{tabular}{ll}\n",
       " orbiting\\_body & count\\\\\n",
       " <chr> & <int>\\\\\n",
       "\\hline\n",
       "\t Earth & 300\\\\\n",
       "\\end{tabular}\n"
      ],
      "text/markdown": [
       "\n",
       "A tibble: 1 × 2\n",
       "\n",
       "| orbiting_body &lt;chr&gt; | count &lt;int&gt; |\n",
       "|---|---|\n",
       "| Earth | 300 |\n",
       "\n"
      ],
      "text/plain": [
       "  orbiting_body count\n",
       "1 Earth         300  "
      ]
     },
     "metadata": {},
     "output_type": "display_data"
    },
    {
     "data": {
      "text/html": [
       "<table class=\"dataframe\">\n",
       "<caption>A tibble: 1 × 5</caption>\n",
       "<thead>\n",
       "\t<tr><th scope=col>est_diameter_min</th><th scope=col>est_diameter_max</th><th scope=col>relative_velocity</th><th scope=col>miss_distance</th><th scope=col>absolute_magnitude</th></tr>\n",
       "\t<tr><th scope=col>&lt;dbl&gt;</th><th scope=col>&lt;dbl&gt;</th><th scope=col>&lt;dbl&gt;</th><th scope=col>&lt;dbl&gt;</th><th scope=col>&lt;dbl&gt;</th></tr>\n",
       "</thead>\n",
       "<tbody>\n",
       "\t<tr><td>0.1900522</td><td>0.4249696</td><td>54500.54</td><td>40590809</td><td>22.32958</td></tr>\n",
       "</tbody>\n",
       "</table>\n"
      ],
      "text/latex": [
       "A tibble: 1 × 5\n",
       "\\begin{tabular}{lllll}\n",
       " est\\_diameter\\_min & est\\_diameter\\_max & relative\\_velocity & miss\\_distance & absolute\\_magnitude\\\\\n",
       " <dbl> & <dbl> & <dbl> & <dbl> & <dbl>\\\\\n",
       "\\hline\n",
       "\t 0.1900522 & 0.4249696 & 54500.54 & 40590809 & 22.32958\\\\\n",
       "\\end{tabular}\n"
      ],
      "text/markdown": [
       "\n",
       "A tibble: 1 × 5\n",
       "\n",
       "| est_diameter_min &lt;dbl&gt; | est_diameter_max &lt;dbl&gt; | relative_velocity &lt;dbl&gt; | miss_distance &lt;dbl&gt; | absolute_magnitude &lt;dbl&gt; |\n",
       "|---|---|---|---|---|\n",
       "| 0.1900522 | 0.4249696 | 54500.54 | 40590809 | 22.32958 |\n",
       "\n"
      ],
      "text/plain": [
       "  est_diameter_min est_diameter_max relative_velocity miss_distance\n",
       "1 0.1900522        0.4249696        54500.54          40590809     \n",
       "  absolute_magnitude\n",
       "1 22.32958          "
      ]
     },
     "metadata": {},
     "output_type": "display_data"
    },
    {
     "data": {
      "text/html": [
       "0"
      ],
      "text/latex": [
       "0"
      ],
      "text/markdown": [
       "0"
      ],
      "text/plain": [
       "[1] 0"
      ]
     },
     "metadata": {},
     "output_type": "display_data"
    },
    {
     "ename": "ERROR",
     "evalue": "Error in plot_grid(neo_plot_max_diameter, neo_plot_min_diameter, neo_plot_velocity, : could not find function \"plot_grid\"\n",
     "output_type": "error",
     "traceback": [
      "Error in plot_grid(neo_plot_max_diameter, neo_plot_min_diameter, neo_plot_velocity, : could not find function \"plot_grid\"\nTraceback:\n"
     ]
    }
   ],
   "source": [
    "options(repr.plot.width = 10, repr.plot.height = 5)\n",
    "url <- \"https://raw.githubusercontent.com/LongTortue/DSCI100-Group-Project/main/neo.csv\"\n",
    "neo_data <- read_csv(url)\n",
    "\n",
    "neo_data <- neo_data |>\n",
    "mutate(sentry_object = as_factor(sentry_object), hazardous = as_factor(hazardous))\n",
    "head(neo_data) # transforming the categorical variables into factors\n",
    "\n",
    "# as the data is unbalanced (81000 false to 9000 true), we will create a new dataset that is balanced\n",
    "\n",
    "neo_data_false <- neo_data |>\n",
    "filter(hazardous == \"FALSE\") |>\n",
    "sample_n(400)\n",
    "neo_data_true <- neo_data |>\n",
    "filter(hazardous == \"TRUE\") |>\n",
    "sample_n(400)\n",
    "neo_data_balanced <- rbind(neo_data_false, neo_data_true) # balanced dataset\n",
    "\n",
    "neo_data_train <- sample_n(neo_data_balanced, 300) # training dataset\n",
    "\n",
    "neo_count <- neo_data_train |>\n",
    "group_by(hazardous) |>\n",
    "summarize(count = n())\n",
    "neo_count # number of observations in each class\n",
    "\n",
    "neo_count_orbiting <- neo_data_train |>\n",
    "group_by(orbiting_body) |>\n",
    "summarize(count = n())\n",
    "neo_count_orbiting # all observations have orbiting bodies of Earth\n",
    "\n",
    "neo_mean <- neo_data_train |>\n",
    "select(-id, -name, -orbiting_body, -sentry_object, -hazardous) |>\n",
    "map_df(mean)\n",
    "neo_mean # mean of predictors\n",
    "\n",
    "neo_na_count <- sum(is.na(neo_data_train))\n",
    "neo_na_count # no missing values in our dataset\n",
    "\n",
    "# plots visualizing distribution of data, and shown next to each other\n",
    "neo_plot_max_diameter <- neo_data_train |>\n",
    "ggplot(aes(x = est_diameter_max)) +\n",
    "geom_histogram() +\n",
    "xlab(\"Estimated Max Diameter (km)\")\n",
    "\n",
    "neo_plot_min_diameter <- neo_data_train |>\n",
    "ggplot(aes(x = est_diameter_min)) +\n",
    "geom_histogram() +\n",
    "xlab(\"Estimated Min Diameter (km)\")\n",
    "\n",
    "neo_plot_velocity <- neo_data_train |>\n",
    "ggplot(aes(x = relative_velocity)) +\n",
    "geom_histogram() +\n",
    "theme(axis.text.x = element_text(angle = 45, hjust = 1)) +\n",
    "xlab(\"Velocity (Relative to Earth)\")\n",
    "\n",
    "neo_plot_miss_distance <- neo_data_train |>\n",
    "ggplot(aes(x = miss_distance)) +\n",
    "geom_histogram() +\n",
    "scale_x_log10(labels = label_comma()) +\n",
    "theme(axis.text.x = element_text(angle = 45, hjust = 1)) +\n",
    "xlab(\"Miss Distance (km)\")\n",
    "\n",
    "neo_plot_absolute_magnitude <- neo_data_train |>\n",
    "ggplot(aes(x = absolute_magnitude)) +\n",
    "geom_histogram() +\n",
    "xlab(\"Absolute Magnitude\")\n",
    "\n",
    "plot_grid(neo_plot_max_diameter, neo_plot_min_diameter, neo_plot_velocity, \n",
    "          neo_plot_miss_distance, neo_plot_absolute_magnitude)"
   ]
  },
  {
   "cell_type": "markdown",
   "id": "b7e798f7-761a-4eab-9ac4-5b9fae06a38b",
   "metadata": {},
   "source": [
    "### Expected outcomes and significance:\n",
    "Through this data analysis, we will be able to classify whether an unknown rock/object found near Earth may pose a potential risk to our safety or not. We will use different indicators such as distance, size, and speed to evaluate if a near Earth object (NEO) is hazardous (causing significant regional damage) or not. \n",
    "\n",
    "### What impact could such findings have?\n",
    "This will have an impact on everyone's safety on Earth. With a reliable classification model, we will be able to determine whether a NEO may pose a significant risk to human life, and we will be able to decide whether or not to take action, such as evacuating areas at risk or attempting to destroy the object. Being able to classify an object's hazardousness through physical attributes allows us to be ready ahead of time and minimize potential damage.\n",
    "\n",
    "### What future questions could this lead to?\n",
    "Researchers can conduct further research on the types of damage NEOs can cause and their impacts. They can analyze the effectiveness of precautions taken and learn how to further improve these precautions to minimize potential harm. Additionally, researchers may identify more predictive factors of a NEO, and develop even better classifiers."
   ]
  },
  {
   "cell_type": "markdown",
   "id": "da9ed46d-ae1a-43b3-a165-35e60e031104",
   "metadata": {},
   "source": [
    "<a id=\"1\"></a> \n",
    "### References\n",
    "1. Keeping an eye on Space Rocks. (n.d.) NASA/JPL Caltech. https://www.jpl.nasa.gov/keeping-an-eye-on-space-rocks\n",
    "2. NEO Basics. (n.d.) NASA/JPL CNEOS. https://cneos.jpl.nasa.gov/about/target_earth.html\n",
    "3. Impact Risk. (n.d.) NASA/JPL CNEOS. https://cneos.jpl.nasa.gov/risk/intro.html\n",
    "4. Vani, Sameep. NASA - Nearest Earth Objects. (n.d.) Kaggle. Retrieved October 26, 2023, from https://www.kaggle.com/datasets/sameepvani/nasa-nearest-earth-objects\n",
    "5. Discovery Statistics. (n.d.) NASA/JPL CNEOS. https://cneos.jpl.nasa.gov/stats/\n",
    "6. JPLraw. (2020, April 27). Web Tutorial: How to Navigate the CNEOS Website [Video]. Youtube. https://www.youtube.com/watch?v=UA6voCyCW1g&ab_channel=JPLraw"
   ]
  }
 ],
 "metadata": {
  "kernelspec": {
   "display_name": "R",
   "language": "R",
   "name": "ir"
  },
  "language_info": {
   "codemirror_mode": "r",
   "file_extension": ".r",
   "mimetype": "text/x-r-source",
   "name": "R",
   "pygments_lexer": "r",
   "version": "4.2.2"
  },
  "widgets": {
   "application/vnd.jupyter.widget-state+json": {
    "state": {},
    "version_major": 2,
    "version_minor": 0
   }
  }
 },
 "nbformat": 4,
 "nbformat_minor": 5
}
